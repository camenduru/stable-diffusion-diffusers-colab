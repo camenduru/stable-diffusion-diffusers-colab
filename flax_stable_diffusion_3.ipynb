{
  "cells": [
    {
      "cell_type": "markdown",
      "metadata": {
        "id": "view-in-github"
      },
      "source": [
        "[![Open In Colab](https://colab.research.google.com/assets/colab-badge.svg)](https://colab.research.google.com/github/camenduru/stable-diffusion-diffusers-colab/blob/main/flax_stable_diffusion_3.ipynb)"
      ]
    },
    {
      "cell_type": "code",
      "execution_count": null,
      "metadata": {
        "cellView": "form",
        "id": "ymcDoPQn41U4"
      },
      "outputs": [],
      "source": [
        "!pip install -q jax==0.3.25 jaxlib==0.3.25 flax==0.6.2 transformers accelerate\n",
        "!pip install -q git+https://github.com/huggingface/diffusers\n",
        "\n",
        "import jax, random, gc\n",
        "from flax.jax_utils import replicate\n",
        "from flax.training.common_utils import shard\n",
        "from diffusers import FlaxStableDiffusionPipeline, FlaxStableDiffusionXLPipeline, StableDiffusionXLPipeline\n",
        "import jax.tools.colab_tpu\n",
        "jax.tools.colab_tpu.setup_tpu('tpu_driver_nightly')\n",
        "jax.device_count()\n",
        "import numpy as np\n",
        "from PIL import Image\n",
        "\n",
        "pipeline, params = FlaxStableDiffusionPipeline.from_pretrained('uf/dark-sushi-25d', from_pt=True, dtype=jax.numpy.bfloat16, safety_checker=None)\n",
        "params = replicate(params)"
      ]
    },
    {
      "cell_type": "code",
      "execution_count": null,
      "metadata": {
        "cellView": "form",
        "id": "DDUev8TOMxJ4"
      },
      "outputs": [],
      "source": [
        "gc.collect()\n",
        "\n",
        "prompt = \"cute duck\"\n",
        "negative_prompt = \"blurry, ugly\"\n",
        "\n",
        "num_samples = jax.device_count()\n",
        "\n",
        "prompt_n = num_samples * [prompt]\n",
        "prompt_ids = pipeline.prepare_inputs(prompt_n)\n",
        "prompt_ids = shard(prompt_ids)\n",
        "\n",
        "negative_prompt_n = num_samples * [negative_prompt]\n",
        "negative_prompt_ids = pipeline.prepare_inputs(negative_prompt_n)\n",
        "negative_prompt_ids = shard(negative_prompt_ids)\n",
        "\n",
        "real_seed = random.randint(0, 2147483647)\n",
        "prng_seed = jax.random.PRNGKey(real_seed)\n",
        "prng_seed = jax.random.split(prng_seed, jax.device_count())\n",
        "\n",
        "images = pipeline(prompt_ids, params, prng_seed, neg_prompt_ids=negative_prompt_ids, num_inference_steps=50, height=512, width=512, guidance_scale=7.5, jit=True).images\n",
        "images = pipeline.numpy_to_pil(np.asarray(images.reshape((num_samples,) + images.shape[-3:])))\n",
        "images[0]\n",
        "images[1]\n",
        "images[2]\n",
        "images[3]\n",
        "images[4]\n",
        "images[5]\n",
        "images[6]\n",
        "images[7]"
      ]
    }
  ],
  "metadata": {
    "accelerator": "TPU",
    "colab": {
      "provenance": []
    },
    "gpuClass": "standard",
    "kernelspec": {
      "display_name": "Python 3",
      "name": "python3"
    },
    "language_info": {
      "name": "python"
    }
  },
  "nbformat": 4,
  "nbformat_minor": 0
}
