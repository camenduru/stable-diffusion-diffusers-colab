{
  "cells": [
    {
      "cell_type": "markdown",
      "metadata": {
        "id": "view-in-github"
      },
      "source": [
        "[![Open In Colab](https://colab.research.google.com/assets/colab-badge.svg)](https://colab.research.google.com/github/camenduru/stable-diffusion-diffusers-colab/blob/main/pytorch_freeu_stable_diffusion.ipynb)"
      ]
    },
    {
      "cell_type": "code",
      "execution_count": null,
      "metadata": {
        "vscode": {
          "languageId": "plaintext"
        }
      },
      "outputs": [],
      "source": [
        "# Main Repo: https://github.com/lyn-rgb/FreeU_Diffusers\n",
        "\n",
        "%cd /content\n",
        "!pip install -q transformers accelerate\n",
        "!pip install -q diffusers==0.21.2\n",
        "# !pip install -q diffusers==0.19.3\n",
        "!rm -rf /content/FreeU_Diffusers\n",
        "!git clone -b diffusers-v0.21.2 https://github.com/camenduru/FreeU_Diffusers\n",
        "%cd /content/FreeU_Diffusers"
      ]
    },
    {
      "cell_type": "code",
      "execution_count": null,
      "metadata": {
        "vscode": {
          "languageId": "plaintext"
        }
      },
      "outputs": [],
      "source": [
        "from diffusers import StableDiffusionPipeline\n",
        "import torch, sys\n",
        "sys.path.append('/content/FreeU_Diffusers')\n",
        "from free_lunch_utils import register_free_upblock2d, register_free_crossattn_upblock2d\n",
        "\n",
        "model_id = \"runwayml/stable-diffusion-v1-5\"\n",
        "pipe = StableDiffusionPipeline.from_pretrained(model_id, torch_dtype=torch.float16).to(\"cuda\")\n",
        "\n",
        "# -------- freeu block registration\n",
        "register_free_upblock2d(pipe, b1=1.2, b2=1.4, s1=0.9, s2=0.2)\n",
        "register_free_crossattn_upblock2d(pipe, b1=1.2, b2=1.4, s1=0.9, s2=0.2)\n",
        "# -------- freeu block registration"
      ]
    },
    {
      "cell_type": "code",
      "execution_count": null,
      "metadata": {
        "vscode": {
          "languageId": "plaintext"
        }
      },
      "outputs": [],
      "source": [
        "prompt = \"a photo of an astronaut riding a horse on mars\"\n",
        "image = pipe(prompt).images[0]  \n",
        "image.save(\"astronaut_rides_horse.png\")"
      ]
    }
  ],
  "metadata": {
    "accelerator": "TPU",
    "colab": {
      "provenance": []
    },
    "gpuClass": "standard",
    "kernelspec": {
      "display_name": "Python 3",
      "name": "python3"
    },
    "language_info": {
      "name": "python"
    }
  },
  "nbformat": 4,
  "nbformat_minor": 0
}
