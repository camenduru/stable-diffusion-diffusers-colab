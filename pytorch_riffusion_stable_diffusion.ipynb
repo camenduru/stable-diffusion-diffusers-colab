{
  "cells": [
    {
      "cell_type": "markdown",
      "metadata": {
        "id": "view-in-github"
      },
      "source": [
        "[![Open In Colab](https://colab.research.google.com/assets/colab-badge.svg)](https://colab.research.google.com/github/camenduru/stable-diffusion-diffusers-colab/blob/main/pytorch_riffusion_stable_diffusion.ipynb)"
      ]
    },
    {
      "cell_type": "code",
      "execution_count": null,
      "metadata": {
        "id": "ymcDoPQn41U4"
      },
      "outputs": [],
      "source": [
        "!pip install -q torch==1.13.1+cu116 torchvision==0.14.1+cu116 torchaudio==0.13.1 torchtext==0.14.1 torchdata==0.5.1 --extra-index-url https://download.pytorch.org/whl/cu116 -U\n",
        "!pip install -q https://github.com/camenduru/stable-diffusion-webui-colab/releases/download/0.0.15/xformers-0.0.15.dev0+189828c.d20221207-cp38-cp38-linux_x86_64.whl\n",
        "!wget -q https://raw.githubusercontent.com/hmartiro/riffusion-inference/main/riffusion/audio.py\n",
        "!pip install -q -U diffusers transformers ftfy pydub\n",
        "\n",
        "import torch, IPython\n",
        "from diffusers import StableDiffusionPipeline\n",
        "from audio import wav_bytes_from_spectrogram_image\n",
        "\n",
        "pipe = StableDiffusionPipeline.from_pretrained(\"riffusion/riffusion-model-v1\", torch_dtype=torch.float16).to(\"cuda\")\n",
        "pipe.enable_xformers_memory_efficient_attention()"
      ]
    },
    {
      "cell_type": "code",
      "execution_count": null,
      "metadata": {
        "id": "BKK30_wrQpww"
      },
      "outputs": [],
      "source": [
        "prompt = \"bongos on a havana street\" #@param {type: 'string'}\n",
        "\n",
        "with torch.autocast(\"cuda\"):\n",
        "  image = pipe(prompt, height=512, width=512).images[0];\n",
        "wav = wav_bytes_from_spectrogram_image(image)\n",
        "with open(\"output.wav\", \"wb\") as f:\n",
        "    f.write(wav[0].getbuffer())\n",
        "IPython.display.Audio(\"/content/output.wav\", rate=44100)"
      ]
    }
  ],
  "metadata": {
    "accelerator": "GPU",
    "colab": {
      "provenance": []
    },
    "gpuClass": "standard",
    "kernelspec": {
      "display_name": "Python 3",
      "name": "python3"
    },
    "language_info": {
      "name": "python"
    }
  },
  "nbformat": 4,
  "nbformat_minor": 0
}
